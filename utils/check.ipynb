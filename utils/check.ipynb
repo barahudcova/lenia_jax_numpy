{
 "cells": [
  {
   "cell_type": "code",
   "execution_count": 1,
   "metadata": {},
   "outputs": [],
   "source": [
    "import pickle"
   ]
  },
  {
   "cell_type": "code",
   "execution_count": 2,
   "metadata": {},
   "outputs": [],
   "source": [
    "# Load both pickle files\n",
    "with open('polygons100_old.pickle', 'rb') as f1:\n",
    "    polygons_old = pickle.load(f1)\n",
    "    \n",
    "with open('polygons100.pickle', 'rb') as f2:\n",
    "    polygons_new = pickle.load(f2)\n"
   ]
  },
  {
   "cell_type": "code",
   "execution_count": 3,
   "metadata": {},
   "outputs": [
    {
     "data": {
      "text/plain": [
       "True"
      ]
     },
     "execution_count": 3,
     "metadata": {},
     "output_type": "execute_result"
    }
   ],
   "source": [
    "len(polygons_new) == len(polygons_old)"
   ]
  },
  {
   "cell_type": "code",
   "execution_count": 4,
   "metadata": {},
   "outputs": [
    {
     "data": {
      "text/plain": [
       "True"
      ]
     },
     "execution_count": 4,
     "metadata": {},
     "output_type": "execute_result"
    }
   ],
   "source": [
    "polygons_old.keys() == polygons_new.keys()"
   ]
  },
  {
   "cell_type": "code",
   "execution_count": 5,
   "metadata": {},
   "outputs": [
    {
     "name": "stdout",
     "output_type": "stream",
     "text": [
      "The pickle files are identical\n"
     ]
    }
   ],
   "source": [
    "# For each key, check if the lists have same length and contents\n",
    "for key in polygons_old.keys():\n",
    "    assert len(polygons_old[key]) == len(polygons_new[key]), f\"Different number of polygons for size {key}\"\n",
    "\n",
    "print(\"The pickle files are identical\")\n"
   ]
  },
  {
   "cell_type": "code",
   "execution_count": 10,
   "metadata": {},
   "outputs": [
    {
     "name": "stdout",
     "output_type": "stream",
     "text": [
      "polygons same same\n"
     ]
    }
   ],
   "source": [
    "for key in polygons_old.keys():\n",
    "    for i, (pnew, pold) in enumerate(zip(polygons_old[key], polygons_new[key])):\n",
    "        assert pnew.shape == pold.shape, f\"these polygons have different shape at {key} at position {i} with shape {pnew.shape} {pold.shape}\"\n",
    "        assert (pnew == pold).all(), f\"these polygons are not the same at {key} at position {i} with shape {pnew.shape} {pold.shape}\"\n",
    "\n",
    "print(\"polygons same same\")"
   ]
  },
  {
   "cell_type": "code",
   "execution_count": null,
   "metadata": {},
   "outputs": [],
   "source": []
  }
 ],
 "metadata": {
  "kernelspec": {
   "display_name": "env",
   "language": "python",
   "name": "python3"
  },
  "language_info": {
   "codemirror_mode": {
    "name": "ipython",
    "version": 3
   },
   "file_extension": ".py",
   "mimetype": "text/x-python",
   "name": "python",
   "nbconvert_exporter": "python",
   "pygments_lexer": "ipython3",
   "version": "3.13.1"
  }
 },
 "nbformat": 4,
 "nbformat_minor": 2
}
